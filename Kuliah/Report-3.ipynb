{
 "cells": [
  {
   "cell_type": "code",
   "execution_count": 146,
   "metadata": {},
   "outputs": [],
   "source": [
    "import numpy as np\n",
    "\n",
    "#To build matrix A and b\n",
    "def build(N):\n",
    "    h = 1/N\n",
    "    A = np.zeros((N*N,N*N))\n",
    "    b = np.zeros((N*N))\n",
    "    for i in range(N*N):\n",
    "        A[i][i] = 4\n",
    "        for j in range(N*N):\n",
    "            if j==i-1 or j==i+1 or j==i-N or j==i+N:\n",
    "                A[i][j] = -1\n",
    "        if i>2 and i%N==0:\n",
    "            A[i][i-1]=0\n",
    "        if i<N*N-1 and i%N==N-1:\n",
    "            A[i][i+1]=0\n",
    "        for j in range(N):\n",
    "            for k in range(N):\n",
    "                b[i] = h*h*(np.sin(np.pi*j*h)*np.sin(np.pi*k*h))\n",
    "    return A,b\n",
    "\n",
    "#Jacobi\n",
    "def jacobi(A,b):\n",
    "    v = np.zeros_like(b)\n",
    "    for k in range(1000):\n",
    "        v_new = np.copy(v)\n",
    "        for i in range(A.shape[0]):\n",
    "                a1 = A[i,:i].dot(v[:i])\n",
    "                a2 = A[i,i+1:].dot(v[i+1:])\n",
    "                v_new[i]=(b[i]-a1-a2)/A[i,i]\n",
    "        if np.max(np.abs(v - v_new)) < 1e-4:\n",
    "            break\n",
    "        v=v_new\n",
    "    return(k+1)#to know the iteration needed\n",
    "    #return(v)#to know the solution\n",
    "\n",
    "#Gauss-Seidel\n",
    "def gauss_seidel(A,b):\n",
    "    v = np.zeros_like(b)\n",
    "    for k in range(1000):\n",
    "        v_new = np.copy(v)\n",
    "        for i in range(A.shape[0]):\n",
    "                a1 = A[i,:i].dot(v_new[:i])\n",
    "                a2 = A[i,i+1:].dot(v[i+1:])\n",
    "                v_new[i]=(b[i]-a1-a2)/A[i,i]\n",
    "        if np.max(np.abs(v - v_new)) < 1e-4:\n",
    "            break\n",
    "        v=v_new\n",
    "    return(k+1)#to know the iteration needed\n",
    "    #return(v)#to know the solution\n",
    "\n",
    "#SOR\n",
    "def sor(A,omega,b):\n",
    "    v = np.zeros_like(b)\n",
    "    for k in range(1000):\n",
    "        v_new = np.copy(v)\n",
    "        for i in range(A.shape[0]):\n",
    "            a1 = A[i,:i].dot(v_new[:i])\n",
    "            a2 = A[i,i+1:].dot(v[i+1:])\n",
    "            v_new[i] = (1-omega)*v[i] + (omega/A[i,i])*(b[i]-a1-a2)\n",
    "        if np.max(np.abs(v - v_new)) < 1e-4:\n",
    "            break\n",
    "        v=v_new\n",
    "    return(k+1)#to know the iteration needed\n",
    "    #return(v)#to know the solution\n",
    "\n",
    "#Optimum Omega for SOR\n",
    "def opt_omega(A):\n",
    "    L = np.triu(A,1)\n",
    "    U = np.tril(A)\n",
    "    T = (1/np.diag(A))*(L+U)\n",
    "    lam = np.max(np.linalg.eigvals(T))\n",
    "    opt_omega = 2/(1+np.sqrt(1-lam*lam))\n",
    "    return opt_omega"
   ]
  },
  {
   "cell_type": "code",
   "execution_count": 147,
   "metadata": {},
   "outputs": [
    {
     "name": "stdout",
     "output_type": "stream",
     "text": [
      "Minimal iteration for Jacobi is  33 for N= 10\n",
      "Minimal iteration for Gauss-Seidel is  26 for N= 10\n",
      "Minimal iteration for SOR with omega= 1.5  is  14 for N= 10\n",
      "Optimum omega for SOR is  (0.5208858677055465-0.877752612206727j)\n"
     ]
    }
   ],
   "source": [
    "N=10; \n",
    "omega=1.5;\n",
    "A,b = build(N);\n",
    "print (\"Minimal iteration for Jacobi is \",jacobi(A,b),\"for N=\",N);\n",
    "print (\"Minimal iteration for Gauss-Seidel is \",gauss_seidel(A,b),\"for N=\",N);\n",
    "print (\"Minimal iteration for SOR with omega=\",omega,\" is \",sor(A,omega,b),\"for N=\",N);\n",
    "print (\"Optimum omega for SOR is \",opt_omega(A));"
   ]
  },
  {
   "cell_type": "code",
   "execution_count": 148,
   "metadata": {},
   "outputs": [
    {
     "name": "stdout",
     "output_type": "stream",
     "text": [
      "Minimal iteration for Jacobi is  1 for N= 20\n",
      "Minimal iteration for Gauss-Seidel is  1 for N= 20\n",
      "Minimal iteration for SOR with omega= 1.5  is  1 for N= 20\n",
      "Optimum omega for SOR is  (0.5056317190914066-0.8692525541127171j)\n"
     ]
    }
   ],
   "source": [
    "N=20; \n",
    "omega=1.5;\n",
    "A,b = build(N);\n",
    "print (\"Minimal iteration for Jacobi is \",jacobi(A,b),\"for N=\",N);\n",
    "print (\"Minimal iteration for Gauss-Seidel is \",gauss_seidel(A,b),\"for N=\",N);\n",
    "print (\"Minimal iteration for SOR with omega=\",omega,\" is \",sor(A,omega,b),\"for N=\",N);\n",
    "print (\"Optimum omega for SOR is \",opt_omega(A));"
   ]
  },
  {
   "cell_type": "code",
   "execution_count": 149,
   "metadata": {},
   "outputs": [
    {
     "name": "stdout",
     "output_type": "stream",
     "text": [
      "Minimal iteration for Jacobi is  1 for N= 50\n",
      "Minimal iteration for Gauss-Seidel is  1 for N= 50\n",
      "Minimal iteration for SOR with omega= 1.5  is  1 for N= 50\n",
      "Optimum omega for SOR is  (0.5009496863499401-0.8665730116070871j)\n"
     ]
    }
   ],
   "source": [
    "N=50; \n",
    "omega=1.5;\n",
    "A,b = build(N);\n",
    "print (\"Minimal iteration for Jacobi is \",jacobi(A,b),\"for N=\",N);\n",
    "print (\"Minimal iteration for Gauss-Seidel is \",gauss_seidel(A,b),\"for N=\",N);\n",
    "print (\"Minimal iteration for SOR with omega=\",omega,\" is \",sor(A,omega,b),\"for N=\",N);\n",
    "print (\"Optimum omega for SOR is \",opt_omega(A));"
   ]
  },
  {
   "cell_type": "code",
   "execution_count": null,
   "metadata": {},
   "outputs": [],
   "source": []
  }
 ],
 "metadata": {
  "kernelspec": {
   "display_name": "Python 3",
   "language": "python",
   "name": "python3"
  },
  "language_info": {
   "codemirror_mode": {
    "name": "ipython",
    "version": 3
   },
   "file_extension": ".py",
   "mimetype": "text/x-python",
   "name": "python",
   "nbconvert_exporter": "python",
   "pygments_lexer": "ipython3",
   "version": "3.6.5"
  }
 },
 "nbformat": 4,
 "nbformat_minor": 2
}
